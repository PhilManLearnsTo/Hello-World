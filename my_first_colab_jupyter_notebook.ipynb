{
  "nbformat": 4,
  "nbformat_minor": 0,
  "metadata": {
    "colab": {
      "name": "my-first-colab-jupyter-notebook.ipynb",
      "provenance": [],
      "collapsed_sections": [],
      "authorship_tag": "ABX9TyN0MicmMi17YpScmS2poe9a",
      "include_colab_link": true
    },
    "kernelspec": {
      "name": "python3",
      "display_name": "Python 3"
    }
  },
  "cells": [
    {
      "cell_type": "markdown",
      "metadata": {
        "id": "view-in-github",
        "colab_type": "text"
      },
      "source": [
        "<a href=\"https://colab.research.google.com/github/PhilManLearnsTo/Hello-World/blob/master/my_first_colab_jupyter_notebook.ipynb\" target=\"_parent\"><img src=\"https://colab.research.google.com/assets/colab-badge.svg\" alt=\"Open In Colab\"/></a>"
      ]
    },
    {
      "cell_type": "code",
      "metadata": {
        "id": "EC5p8B8tv3qa",
        "colab_type": "code",
        "colab": {}
      },
      "source": [
        "print(\"Hello World!\")"
      ],
      "execution_count": null,
      "outputs": []
    },
    {
      "cell_type": "code",
      "metadata": {
        "id": "ZjpGAcNaQbdI",
        "colab_type": "code",
        "colab": {}
      },
      "source": [
        "name_list = [\"a\",\"b\",\"c\",\"d\",\"e\"]\n",
        "print(type(name_list))\n",
        "for i in name_list:\n",
        "  print(i)"
      ],
      "execution_count": null,
      "outputs": []
    },
    {
      "cell_type": "code",
      "metadata": {
        "id": "0cOI2MqDSDDd",
        "colab_type": "code",
        "colab": {
          "base_uri": "https://localhost:8080/",
          "height": 121
        },
        "outputId": "ae1bdba2-8915-4b26-ebc6-f9aa6553915f"
      },
      "source": [
        "name_list = [\"list\",\"tuple\",\"set\",\"dictionary\"]\n",
        "print(type(name_list))\n",
        "for i in name_list:\n",
        "  print(i, len(i))\n",
        "name_list.sort()\n",
        "print(name_list)"
      ],
      "execution_count": null,
      "outputs": [
        {
          "output_type": "stream",
          "text": [
            "<class 'list'>\n",
            "list 4\n",
            "tuple 5\n",
            "set 3\n",
            "dictionary 10\n",
            "['dictionary', 'list', 'set', 'tuple']\n"
          ],
          "name": "stdout"
        }
      ]
    },
    {
      "cell_type": "code",
      "metadata": {
        "id": "6GrfXFuZTQLb",
        "colab_type": "code",
        "colab": {}
      },
      "source": [
        "# provide new function to sort list values by length\n",
        "# I don't currently understand this - I copied it from here:\n",
        "# I don't understand (L)\n",
        "# https://www.w3schools.com/python/ref_list_sort.asp\n",
        "def list_member_length(L):\n",
        "  return len(L)\n",
        "# I understand the code below this line:\n",
        "name_list = [\"list\",\"tuple\",\"set\",\"dictionary\"]\n",
        "\n",
        "print(type(name_list))\n",
        "\n",
        "for i in name_list:\n",
        "  print(i, len(i))\n",
        "name_list.sort(key=list_member_length)\n",
        "print(name_list)"
      ],
      "execution_count": null,
      "outputs": []
    },
    {
      "cell_type": "code",
      "metadata": {
        "id": "BPYNKQjAVAhS",
        "colab_type": "code",
        "colab": {
          "base_uri": "https://localhost:8080/",
          "height": 225
        },
        "outputId": "01e23f6b-c0e1-4005-b5df-d51a301a6fda"
      },
      "source": [
        "name_list = [\"list\",\"tuple\",\"set\",\"dictionary\"]\n",
        "\n",
        "for i in name_list:\n",
        "        # member_description=(\"\")\n",
        "        if i==\"list\":\n",
        "            member_description=(\"is a collection which is ordered and changeable.\\nLists allow duplicate members.\\n\")\n",
        "        elif i==\"tuple\":\n",
        "            member_description=(\"is a collection which is ordered and  NOT changeable.\\nTuples allow duplicate members.\\n\")\n",
        "        elif i==\"set\":\n",
        "            member_description=(\"is a collection which is NOT ordered and NOT indexed.\\nSets do not allow duplicate members.\\n\")\n",
        "        elif i==\"dictionary\":\n",
        "            member_description=(\"is a collection which is NOT ordered, but is changeable and indexed.\\nDictionaries do not allow duplicate members.\\n\")\n",
        "        print(\"A\",i, member_description)"
      ],
      "execution_count": null,
      "outputs": [
        {
          "output_type": "stream",
          "text": [
            "A list is a collection which is ordered and changeable.\n",
            "Lists allow duplicate members.\n",
            "\n",
            "A tuple is a collection which is ordered and  NOT changeable.\n",
            "Tuples allow duplicate members.\n",
            "\n",
            "A set is a collection which is NOT ordered and NOT indexed.\n",
            "Sets do not allow duplicate members.\n",
            "\n",
            "A dictionary is a collection which is NOT ordered, but is changeable and indexed.\n",
            "Dictionaries do not allow duplicate members.\n",
            "\n"
          ],
          "name": "stdout"
        }
      ]
    }
  ]
}